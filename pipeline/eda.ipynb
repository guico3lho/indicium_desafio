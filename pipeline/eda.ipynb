{
 "cells": [
  {
   "cell_type": "markdown",
   "source": [
    "# Packages"
   ],
   "metadata": {
    "collapsed": false
   },
   "id": "e705590a00b522a"
  },
  {
   "cell_type": "code",
   "outputs": [],
   "source": [
    "import pandas as pd\n",
    "import seaborn as sns\n",
    "import numpy as np\n",
    "from datetime import datetime\n",
    "import gdown\n",
    "import plotly.express as px\n",
    "from sklearn.model_selection import train_test_split\n",
    "import matplotlib.pyplot as plt\n"
   ],
   "metadata": {
    "collapsed": true,
    "ExecuteTime": {
     "end_time": "2024-02-22T17:24:10.309153200Z",
     "start_time": "2024-02-22T17:24:10.283638700Z"
    }
   },
   "id": "initial_id",
   "execution_count": 17
  },
  {
   "cell_type": "markdown",
   "source": [
    "# Loading dataset"
   ],
   "metadata": {
    "collapsed": false
   },
   "id": "3449912a4840c263"
  },
  {
   "cell_type": "code",
   "outputs": [],
   "source": [
    "gdown.download(id=\"122b3O7GoH2pouBcx411M1h0qegZytNpo\")"
   ],
   "metadata": {
    "collapsed": false
   },
   "id": "d719c534d51bbb26"
  },
  {
   "cell_type": "code",
   "outputs": [],
   "source": [
    "df = pd.read_csv(\"../assets/teste_indicium_precificacao.csv\")"
   ],
   "metadata": {
    "collapsed": false,
    "ExecuteTime": {
     "end_time": "2024-02-22T17:03:09.130619Z",
     "start_time": "2024-02-22T17:03:08.930695700Z"
    }
   },
   "id": "8431988700d8bb3c",
   "execution_count": 2
  },
  {
   "cell_type": "markdown",
   "source": [
    "Antes de fazermos o EDA, é importante já separarmos qual será nossa amostra de treino e teste. Para os dados de teste não enviezarem o EDA e consequentemente, o modelo preditivo"
   ],
   "metadata": {
    "collapsed": false
   },
   "id": "1bbc3dd2f5cf706f"
  },
  {
   "cell_type": "code",
   "outputs": [],
   "source": [
    "X = df.drop(\"price\", axis=1)\n",
    "y = df.price\n",
    "\n",
    "X_train, X_test, y_train, y_test = train_test_split(X, y, test_size=0.2, random_state=42)"
   ],
   "metadata": {
    "collapsed": false,
    "ExecuteTime": {
     "end_time": "2024-02-22T17:13:31.259827900Z",
     "start_time": "2024-02-22T17:13:31.221946200Z"
    }
   },
   "id": "43cbf164ad70515",
   "execution_count": 5
  },
  {
   "cell_type": "code",
   "outputs": [],
   "source": [
    "df_train = pd.concat([X_train, y_train], axis=1)"
   ],
   "metadata": {
    "collapsed": false,
    "ExecuteTime": {
     "end_time": "2024-02-22T17:14:13.572071700Z",
     "start_time": "2024-02-22T17:14:13.560403900Z"
    }
   },
   "id": "683052d3607cf8a",
   "execution_count": 6
  },
  {
   "cell_type": "code",
   "outputs": [
    {
     "name": "stdout",
     "output_type": "stream",
     "text": [
      "<class 'pandas.core.frame.DataFrame'>\n",
      "Index: 39115 entries, 38522 to 15795\n",
      "Data columns (total 16 columns):\n",
      " #   Column                         Non-Null Count  Dtype  \n",
      "---  ------                         --------------  -----  \n",
      " 0   id                             39115 non-null  int64  \n",
      " 1   nome                           39105 non-null  object \n",
      " 2   host_id                        39115 non-null  int64  \n",
      " 3   host_name                      39096 non-null  object \n",
      " 4   bairro_group                   39115 non-null  object \n",
      " 5   bairro                         39115 non-null  object \n",
      " 6   latitude                       39115 non-null  float64\n",
      " 7   longitude                      39115 non-null  float64\n",
      " 8   room_type                      39115 non-null  object \n",
      " 9   minimo_noites                  39115 non-null  int64  \n",
      " 10  numero_de_reviews              39115 non-null  int64  \n",
      " 11  ultima_review                  31045 non-null  object \n",
      " 12  reviews_por_mes                31045 non-null  float64\n",
      " 13  calculado_host_listings_count  39115 non-null  int64  \n",
      " 14  disponibilidade_365            39115 non-null  int64  \n",
      " 15  price                          39115 non-null  int64  \n",
      "dtypes: float64(3), int64(7), object(6)\n",
      "memory usage: 5.1+ MB\n"
     ]
    }
   ],
   "source": [
    "df_train.info()"
   ],
   "metadata": {
    "collapsed": false,
    "ExecuteTime": {
     "end_time": "2024-02-22T17:14:29.012160800Z",
     "start_time": "2024-02-22T17:14:28.972815400Z"
    }
   },
   "id": "6c23c2e10bbc786a",
   "execution_count": 8
  },
  {
   "cell_type": "code",
   "outputs": [],
   "source": [
    "df_train_pp = df_train.copy()\n",
    "df_train_pp = df_train_pp.dropna(subset=['host_name', 'nome'])\n",
    "df_train_pp['ultima_review_timestamp'] = df_train_pp['ultima_review'].apply(lambda x: datetime.strptime(x, '%Y-%m-%d').timestamp() if pd.notnull(x) else 0)\n",
    "df_train_pp['reviews_por_mes'] = df_train_pp['reviews_por_mes'].fillna(0)\n",
    "df_train_pp['ultima_review'] = df_train_pp['ultima_review'].fillna(0)"
   ],
   "metadata": {
    "collapsed": false,
    "ExecuteTime": {
     "end_time": "2024-02-22T17:21:05.984552700Z",
     "start_time": "2024-02-22T17:21:05.157433400Z"
    }
   },
   "id": "73335a66d414eeb2",
   "execution_count": 13
  },
  {
   "cell_type": "code",
   "outputs": [
    {
     "name": "stdout",
     "output_type": "stream",
     "text": [
      "<class 'pandas.core.frame.DataFrame'>\n",
      "Index: 39086 entries, 38522 to 15795\n",
      "Data columns (total 17 columns):\n",
      " #   Column                         Non-Null Count  Dtype  \n",
      "---  ------                         --------------  -----  \n",
      " 0   id                             39086 non-null  int64  \n",
      " 1   nome                           39086 non-null  object \n",
      " 2   host_id                        39086 non-null  int64  \n",
      " 3   host_name                      39086 non-null  object \n",
      " 4   bairro_group                   39086 non-null  object \n",
      " 5   bairro                         39086 non-null  object \n",
      " 6   latitude                       39086 non-null  float64\n",
      " 7   longitude                      39086 non-null  float64\n",
      " 8   room_type                      39086 non-null  object \n",
      " 9   minimo_noites                  39086 non-null  int64  \n",
      " 10  numero_de_reviews              39086 non-null  int64  \n",
      " 11  ultima_review                  39086 non-null  object \n",
      " 12  reviews_por_mes                39086 non-null  float64\n",
      " 13  calculado_host_listings_count  39086 non-null  int64  \n",
      " 14  disponibilidade_365            39086 non-null  int64  \n",
      " 15  price                          39086 non-null  int64  \n",
      " 16  ultima_review_timestamp        39086 non-null  float64\n",
      "dtypes: float64(4), int64(7), object(6)\n",
      "memory usage: 5.4+ MB\n"
     ]
    }
   ],
   "source": [
    "df_train_pp.info()"
   ],
   "metadata": {
    "collapsed": false,
    "ExecuteTime": {
     "end_time": "2024-02-22T17:21:08.803263300Z",
     "start_time": "2024-02-22T17:21:08.770439200Z"
    }
   },
   "id": "a427fa07fad80ecd",
   "execution_count": 14
  },
  {
   "cell_type": "code",
   "outputs": [
    {
     "data": {
      "text/plain": "                 id       host_id      latitude     longitude  minimo_noites  \\\ncount  3.908600e+04  3.908600e+04  39086.000000  39086.000000   39086.000000   \nmean   1.902568e+07  6.735137e+07     40.729070    -73.952376       7.004810   \nstd    1.097892e+07  7.848609e+07      0.054464      0.045882      19.353601   \nmin    2.595000e+03  2.787000e+03     40.499790    -74.242850       1.000000   \n25%    9.470534e+06  7.757078e+06     40.690260    -73.983148       1.000000   \n50%    1.967051e+07  3.064734e+07     40.723450    -73.955730       3.000000   \n75%    2.917689e+07  1.074344e+08     40.763210    -73.936490       5.000000   \nmax    3.648724e+07  2.743213e+08     40.913060    -73.712990     999.000000   \n\n       numero_de_reviews  reviews_por_mes  calculado_host_listings_count  \\\ncount       39086.000000     39086.000000                   39086.000000   \nmean           23.257483         1.090446                       7.115080   \nstd            44.424529         1.601385                      32.777065   \nmin             0.000000         0.000000                       1.000000   \n25%             1.000000         0.040000                       1.000000   \n50%             5.000000         0.370000                       1.000000   \n75%            24.000000         1.590000                       2.000000   \nmax           629.000000        58.500000                     327.000000   \n\n       disponibilidade_365         price  ultima_review_timestamp  \ncount         39086.000000  39086.000000             3.908600e+04  \nmean            112.951389    153.780100             1.221503e+09  \nstd             131.723205    244.233104             6.233043e+08  \nmin               0.000000      0.000000             0.000000e+00  \n25%               0.000000     69.000000             1.458788e+09  \n50%              45.000000    106.000000             1.546484e+09  \n75%             227.000000    176.000000             1.560913e+09  \nmax             365.000000  10000.000000             1.562555e+09  ",
      "text/html": "<div>\n<style scoped>\n    .dataframe tbody tr th:only-of-type {\n        vertical-align: middle;\n    }\n\n    .dataframe tbody tr th {\n        vertical-align: top;\n    }\n\n    .dataframe thead th {\n        text-align: right;\n    }\n</style>\n<table border=\"1\" class=\"dataframe\">\n  <thead>\n    <tr style=\"text-align: right;\">\n      <th></th>\n      <th>id</th>\n      <th>host_id</th>\n      <th>latitude</th>\n      <th>longitude</th>\n      <th>minimo_noites</th>\n      <th>numero_de_reviews</th>\n      <th>reviews_por_mes</th>\n      <th>calculado_host_listings_count</th>\n      <th>disponibilidade_365</th>\n      <th>price</th>\n      <th>ultima_review_timestamp</th>\n    </tr>\n  </thead>\n  <tbody>\n    <tr>\n      <th>count</th>\n      <td>3.908600e+04</td>\n      <td>3.908600e+04</td>\n      <td>39086.000000</td>\n      <td>39086.000000</td>\n      <td>39086.000000</td>\n      <td>39086.000000</td>\n      <td>39086.000000</td>\n      <td>39086.000000</td>\n      <td>39086.000000</td>\n      <td>39086.000000</td>\n      <td>3.908600e+04</td>\n    </tr>\n    <tr>\n      <th>mean</th>\n      <td>1.902568e+07</td>\n      <td>6.735137e+07</td>\n      <td>40.729070</td>\n      <td>-73.952376</td>\n      <td>7.004810</td>\n      <td>23.257483</td>\n      <td>1.090446</td>\n      <td>7.115080</td>\n      <td>112.951389</td>\n      <td>153.780100</td>\n      <td>1.221503e+09</td>\n    </tr>\n    <tr>\n      <th>std</th>\n      <td>1.097892e+07</td>\n      <td>7.848609e+07</td>\n      <td>0.054464</td>\n      <td>0.045882</td>\n      <td>19.353601</td>\n      <td>44.424529</td>\n      <td>1.601385</td>\n      <td>32.777065</td>\n      <td>131.723205</td>\n      <td>244.233104</td>\n      <td>6.233043e+08</td>\n    </tr>\n    <tr>\n      <th>min</th>\n      <td>2.595000e+03</td>\n      <td>2.787000e+03</td>\n      <td>40.499790</td>\n      <td>-74.242850</td>\n      <td>1.000000</td>\n      <td>0.000000</td>\n      <td>0.000000</td>\n      <td>1.000000</td>\n      <td>0.000000</td>\n      <td>0.000000</td>\n      <td>0.000000e+00</td>\n    </tr>\n    <tr>\n      <th>25%</th>\n      <td>9.470534e+06</td>\n      <td>7.757078e+06</td>\n      <td>40.690260</td>\n      <td>-73.983148</td>\n      <td>1.000000</td>\n      <td>1.000000</td>\n      <td>0.040000</td>\n      <td>1.000000</td>\n      <td>0.000000</td>\n      <td>69.000000</td>\n      <td>1.458788e+09</td>\n    </tr>\n    <tr>\n      <th>50%</th>\n      <td>1.967051e+07</td>\n      <td>3.064734e+07</td>\n      <td>40.723450</td>\n      <td>-73.955730</td>\n      <td>3.000000</td>\n      <td>5.000000</td>\n      <td>0.370000</td>\n      <td>1.000000</td>\n      <td>45.000000</td>\n      <td>106.000000</td>\n      <td>1.546484e+09</td>\n    </tr>\n    <tr>\n      <th>75%</th>\n      <td>2.917689e+07</td>\n      <td>1.074344e+08</td>\n      <td>40.763210</td>\n      <td>-73.936490</td>\n      <td>5.000000</td>\n      <td>24.000000</td>\n      <td>1.590000</td>\n      <td>2.000000</td>\n      <td>227.000000</td>\n      <td>176.000000</td>\n      <td>1.560913e+09</td>\n    </tr>\n    <tr>\n      <th>max</th>\n      <td>3.648724e+07</td>\n      <td>2.743213e+08</td>\n      <td>40.913060</td>\n      <td>-73.712990</td>\n      <td>999.000000</td>\n      <td>629.000000</td>\n      <td>58.500000</td>\n      <td>327.000000</td>\n      <td>365.000000</td>\n      <td>10000.000000</td>\n      <td>1.562555e+09</td>\n    </tr>\n  </tbody>\n</table>\n</div>"
     },
     "execution_count": 16,
     "metadata": {},
     "output_type": "execute_result"
    }
   ],
   "source": [
    "df_train_pp.describe()"
   ],
   "metadata": {
    "collapsed": false,
    "ExecuteTime": {
     "end_time": "2024-02-22T17:22:30.871384200Z",
     "start_time": "2024-02-22T17:22:30.810501800Z"
    }
   },
   "id": "bbd3031f05923ebf",
   "execution_count": 16
  },
  {
   "cell_type": "markdown",
   "source": [
    "# EDA"
   ],
   "metadata": {
    "collapsed": false
   },
   "id": "f84b060f3d8cb833"
  },
  {
   "cell_type": "markdown",
   "source": [
    "## Pergunta a) Supondo que uma pessoa esteja pensando em investir em um apartamento para alugar na plataforma, onde seria mais indicada a compra?"
   ],
   "metadata": {
    "collapsed": false
   },
   "id": "c38f1169ee4cceb0"
  },
  {
   "cell_type": "markdown",
   "source": [],
   "metadata": {
    "collapsed": false
   },
   "id": "da442c67495b1b08"
  },
  {
   "cell_type": "markdown",
   "source": [],
   "metadata": {
    "collapsed": false
   },
   "id": "9e21ee6c6cf43aa1"
  },
  {
   "cell_type": "markdown",
   "source": [
    "## Pergunta b) O número mínimo de noites e a disponibilidade ao longo do ano interferem no preço? "
   ],
   "metadata": {
    "collapsed": false
   },
   "id": "915381b11eec6b50"
  },
  {
   "cell_type": "markdown",
   "source": [
    "## Pergunta c) Existe algum padrão no texto do nome do local para lugares de mais alto valor?\n"
   ],
   "metadata": {
    "collapsed": false
   },
   "id": "ed8976f7047c3712"
  },
  {
   "cell_type": "code",
   "outputs": [],
   "source": [
    "px.scatter(df_train_pp, x='latitude', y='longitude', color='price', color_continuous_scale='viridis', height=800, width=800)"
   ],
   "metadata": {
    "collapsed": false
   },
   "id": "cb5ba822bcd274fb"
  }
 ],
 "metadata": {
  "kernelspec": {
   "display_name": "Python 3",
   "language": "python",
   "name": "python3"
  },
  "language_info": {
   "codemirror_mode": {
    "name": "ipython",
    "version": 2
   },
   "file_extension": ".py",
   "mimetype": "text/x-python",
   "name": "python",
   "nbconvert_exporter": "python",
   "pygments_lexer": "ipython2",
   "version": "2.7.6"
  }
 },
 "nbformat": 4,
 "nbformat_minor": 5
}
