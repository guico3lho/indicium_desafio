{
 "cells": [
  {
   "cell_type": "markdown",
   "source": [
    "# Packages"
   ],
   "metadata": {
    "collapsed": false
   },
   "id": "95704807eddbfaf6"
  },
  {
   "cell_type": "code",
   "outputs": [],
   "source": [
    "import pandas as pd\n",
    "from sklearn.model_selection import train_test_split\n",
    "from datetime import datetime\n",
    "from sklearn.preprocessing import MinMaxScaler\n",
    "import plotly.express as px\n",
    "from matplotlib import pyplot as plt\n",
    "import pickle\n"
   ],
   "metadata": {
    "collapsed": false,
    "ExecuteTime": {
     "end_time": "2024-02-23T23:11:05.719633600Z",
     "start_time": "2024-02-23T23:11:05.612492500Z"
    }
   },
   "id": "a0ebc81b84328300",
   "execution_count": 16
  },
  {
   "cell_type": "markdown",
   "source": [
    "**\"bairro_group_type_Manhattan\", \"longitude\", \"room_type_type_Entire home/apt\" e \"room_type_type_Private room\"**"
   ],
   "metadata": {
    "collapsed": false
   },
   "id": "da5d78fb267038b7"
  },
  {
   "cell_type": "markdown",
   "source": [
    "# Loading and preparing data for models"
   ],
   "metadata": {
    "collapsed": false
   },
   "id": "28012e4321519212"
  },
  {
   "cell_type": "code",
   "outputs": [],
   "source": [
    "df = pd.read_csv(\"../../assets/teste_indicium_precificacao.csv\")"
   ],
   "metadata": {
    "collapsed": false,
    "ExecuteTime": {
     "end_time": "2024-02-23T23:11:05.950961900Z",
     "start_time": "2024-02-23T23:11:05.705071600Z"
    }
   },
   "id": "3fc3b74271925efd",
   "execution_count": 17
  },
  {
   "cell_type": "code",
   "outputs": [],
   "source": [
    "df_pp = df.copy()\n",
    "df_pp = df_pp[(df_pp['price'] > 0) & (df_pp['price'] <= 230)]\n",
    "df_pp = pd.get_dummies(df_pp, columns=['bairro_group'], prefix=['bairro_group_type'], dtype=int)\n",
    "df_pp = pd.get_dummies(df_pp, columns=['room_type'], prefix=['room_type_type'], dtype=int)\n",
    "df_pp.loc[:, 'ultima_review_timestamp'] = df_pp['ultima_review'].apply(lambda x: datetime.strptime(x, '%Y-%m-%d').timestamp() if pd.notnull(x) else None)\n",
    "df_pp = df_pp.dropna()\n"
   ],
   "metadata": {
    "collapsed": false,
    "ExecuteTime": {
     "end_time": "2024-02-23T23:11:06.542849900Z",
     "start_time": "2024-02-23T23:11:05.954486500Z"
    }
   },
   "id": "dfdd9677c09fecd6",
   "execution_count": 18
  },
  {
   "cell_type": "code",
   "outputs": [],
   "source": [
    "X = df_pp.drop(\"price\", axis=1)\n",
    "# X = df_pp[['longitude', 'room_type_type_Entire home/apt', 'room_type_type_Private room', 'bairro_group_type_Manhattan']]\n",
    "y = df_pp.price\n",
    "\n",
    "X_norm = X.select_dtypes(exclude=[\"object\"])\n",
    "X_norm = X_norm.astype('float')\n",
    "X_norm = X_norm.iloc[:, 2:]\n",
    "columns = X_norm.columns\n",
    "mms = MinMaxScaler()\n",
    "X_norm = mms.fit_transform(X_norm)\n",
    "X_norm = pd.DataFrame(X_norm, columns=columns)\n",
    "\n",
    "X_train, X_test, y_train, y_test = train_test_split(X_norm, y, test_size=0.2, random_state=42)"
   ],
   "metadata": {
    "collapsed": false,
    "ExecuteTime": {
     "end_time": "2024-02-23T23:11:06.605461100Z",
     "start_time": "2024-02-23T23:11:06.549379600Z"
    }
   },
   "id": "13059fc9c91e592",
   "execution_count": 19
  },
  {
   "cell_type": "markdown",
   "source": [
    "# Declaring models for gridsearchcv"
   ],
   "metadata": {
    "collapsed": false
   },
   "id": "f3cf711f72d6a407"
  },
  {
   "cell_type": "markdown",
   "source": [
    "Como o método de correlação usada foi 'Pearson' e seu método de avaliação leva em consideração a correlação linear entre as características do dataset, também sera usado aqui modelos lineares"
   ],
   "metadata": {
    "collapsed": false
   },
   "id": "9dee7953c3d23c0e"
  },
  {
   "cell_type": "markdown",
   "source": [
    "## LinearRegression"
   ],
   "metadata": {
    "collapsed": false
   },
   "id": "9145d1748ce14219"
  },
  {
   "cell_type": "code",
   "outputs": [],
   "source": [
    "lin_params = {}"
   ],
   "metadata": {
    "collapsed": false,
    "ExecuteTime": {
     "end_time": "2024-02-23T23:11:06.614247800Z",
     "start_time": "2024-02-23T23:11:06.606463500Z"
    }
   },
   "id": "926e27ad7c7d5b6a",
   "execution_count": 20
  },
  {
   "cell_type": "markdown",
   "source": [
    "## Ridge"
   ],
   "metadata": {
    "collapsed": false
   },
   "id": "140da6d1bdaa4542"
  },
  {
   "cell_type": "code",
   "outputs": [],
   "source": [
    "ridge_params = {\n",
    "    'alpha': [0.01],  # Regularization strength\n",
    "    'solver': ['saga'],  # Solver to use\n",
    "    'max_iter': [1000]  # Maximum number of iterations\n",
    "}"
   ],
   "metadata": {
    "collapsed": false,
    "ExecuteTime": {
     "end_time": "2024-02-23T23:11:06.623384300Z",
     "start_time": "2024-02-23T23:11:06.614754500Z"
    }
   },
   "id": "80d1ab830994148f",
   "execution_count": 21
  },
  {
   "cell_type": "markdown",
   "source": [
    "## SGDRegressor"
   ],
   "metadata": {
    "collapsed": false
   },
   "id": "86138de21e870f67"
  },
  {
   "cell_type": "code",
   "outputs": [],
   "source": [
    "sgd_params = {\n",
    "    'loss': ['squared_loss', 'huber', 'epsilon_insensitive', 'squared_epsilon_insensitive'],  # Loss function to be optimized\n",
    "    'penalty': ['none', 'l2', 'l1', 'elasticnet'],  # Regularization penalty\n",
    "    'alpha': [0.1],  # Regularization strength\n",
    "    'learning_rate': ['constant', 'optimal', 'invscaling', 'adaptive'],  # Learning rate schedule\n",
    "    'max_iter': [1000],  # Maximum number of iterations\n",
    "    'tol': [1e-3]  # Tolerance for the stopping criterion\n",
    "}"
   ],
   "metadata": {
    "collapsed": false,
    "ExecuteTime": {
     "end_time": "2024-02-23T23:11:06.641948700Z",
     "start_time": "2024-02-23T23:11:06.625901400Z"
    }
   },
   "id": "e442e2b4ca224f9f",
   "execution_count": 22
  },
  {
   "cell_type": "markdown",
   "source": [
    "# Grid search"
   ],
   "metadata": {
    "collapsed": false
   },
   "id": "260b56480d9c6b2b"
  },
  {
   "cell_type": "code",
   "outputs": [],
   "source": [
    "from sklearn.model_selection import GridSearchCV\n",
    "from sklearn.linear_model import LinearRegression\n",
    "from sklearn.linear_model import Ridge\n",
    "from sklearn.linear_model import SGDRegressor\n"
   ],
   "metadata": {
    "collapsed": false,
    "ExecuteTime": {
     "end_time": "2024-02-23T23:11:06.648478800Z",
     "start_time": "2024-02-23T23:11:06.635994800Z"
    }
   },
   "id": "f882ba3fa088685a",
   "execution_count": 23
  },
  {
   "cell_type": "code",
   "outputs": [],
   "source": [
    "model_params = ([LinearRegression(), Ridge(), SGDRegressor()],\n",
    "                [lin_params, ridge_params, sgd_params])"
   ],
   "metadata": {
    "collapsed": false,
    "ExecuteTime": {
     "end_time": "2024-02-23T23:11:06.672469400Z",
     "start_time": "2024-02-23T23:11:06.644456600Z"
    }
   },
   "id": "49470b0941b380b3",
   "execution_count": 24
  },
  {
   "cell_type": "code",
   "outputs": [],
   "source": [
    "list_best_models_params = []\n",
    "for model, params in zip(model_params[0], model_params[1]):\n",
    "    gs = GridSearchCV(model,\n",
    "                      param_grid=params,\n",
    "                      scoring='neg_root_mean_squared_error',\n",
    "                      )\n",
    "\n",
    "    gs.fit(X_train, y_train)\n",
    "    print(f\"Best CV results for {model.__class__.__name__}\")\n",
    "    print(\"Best Score of train set: \" + str(gs.best_score_))\n",
    "    print(\"Best estimator: \" + str(gs.best_estimator_))\n",
    "    print(\"Best parameter set: \" + str(gs.best_params_))\n",
    "\n",
    "    store_best_model_configs = {\n",
    "        'model_name': model.__class__.__name__,\n",
    "        'best_score': gs.best_score_,\n",
    "        'best_estimator': gs.best_estimator_,\n",
    "        'best_params': gs.best_params_\n",
    "    }\n",
    "\n",
    "    list_best_models_params.append(store_best_model_configs)\n",
    "\n",
    "df_best_models_params = pd.DataFrame(list_best_models_params)\n",
    "df_best_models_params.to_csv('../../assets/best_models_params_cv.csv', index=False)\n",
    "\n",
    "df_best_models_params"
   ],
   "metadata": {
    "collapsed": false
   },
   "id": "123b699a9fab3c66",
   "execution_count": null
  },
  {
   "cell_type": "code",
   "outputs": [],
   "source": [
    "best_model = Ridge(**{'alpha': 0.01, 'max_iter': 1000, 'solver': 'saga'}).fit(X_train, y_train)"
   ],
   "metadata": {
    "collapsed": false,
    "ExecuteTime": {
     "end_time": "2024-02-23T23:13:07.906933600Z",
     "start_time": "2024-02-23T23:13:07.473772200Z"
    }
   },
   "id": "d4e646bd9464e10f",
   "execution_count": 26
  },
  {
   "cell_type": "code",
   "outputs": [],
   "source": [
    "with open('../../assets/supervised_best_model.pkl', 'wb') as f:\n",
    "    pickle.dump(best_model, f)\n"
   ],
   "metadata": {
    "collapsed": false,
    "ExecuteTime": {
     "end_time": "2024-02-23T23:13:07.919665200Z",
     "start_time": "2024-02-23T23:13:07.908933Z"
    }
   },
   "id": "dd9995cb841a45c2",
   "execution_count": 27
  },
  {
   "cell_type": "code",
   "outputs": [],
   "source": [],
   "metadata": {
    "collapsed": false,
    "ExecuteTime": {
     "end_time": "2024-02-23T23:13:07.940320800Z",
     "start_time": "2024-02-23T23:13:07.919665200Z"
    }
   },
   "id": "1a39310e39ce6322",
   "execution_count": 27
  }
 ],
 "metadata": {
  "kernelspec": {
   "display_name": "Python 3",
   "language": "python",
   "name": "python3"
  },
  "language_info": {
   "codemirror_mode": {
    "name": "ipython",
    "version": 2
   },
   "file_extension": ".py",
   "mimetype": "text/x-python",
   "name": "python",
   "nbconvert_exporter": "python",
   "pygments_lexer": "ipython2",
   "version": "2.7.6"
  }
 },
 "nbformat": 4,
 "nbformat_minor": 5
}
